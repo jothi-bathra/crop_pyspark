{
 "cells": [
  {
   "cell_type": "code",
   "execution_count": 1,
   "metadata": {},
   "outputs": [],
   "source": [
    "import findspark.\n",
    "findspark.init()"
   ]
  },
  {
   "cell_type": "code",
   "execution_count": 2,
   "metadata": {},
   "outputs": [],
   "source": [
    "import pyspark"
   ]
  },
  {
   "cell_type": "code",
   "execution_count": 3,
   "metadata": {},
   "outputs": [],
   "source": [
    "import mysql.connector\n",
    "import pandas as pd\n",
    "from pyspark.sql import SparkSession"
   ]
  },
  {
   "cell_type": "code",
   "execution_count": 4,
   "metadata": {},
   "outputs": [],
   "source": [
    "appName = \"PySpark MySQL Example - via mysql.connector\"\n",
    "master = \"local\""
   ]
  },
  {
   "cell_type": "code",
   "execution_count": 5,
   "metadata": {},
   "outputs": [],
   "source": [
    "spark = SparkSession.builder.master(master).appName(appName).getOrCreate()"
   ]
  },
  {
   "cell_type": "code",
   "execution_count": 6,
   "metadata": {},
   "outputs": [],
   "source": [
    "import mysql.connector"
   ]
  },
  {
   "cell_type": "code",
   "execution_count": 7,
   "metadata": {},
   "outputs": [],
   "source": [
    "conn =mysql.connector.connect(user='root', database='cat2',password='0605',host=\"localhost\")"
   ]
  },
  {
   "cell_type": "code",
   "execution_count": 8,
   "metadata": {},
   "outputs": [],
   "source": [
    "cursor= conn.cursor()\n",
    "query=\"SELECT * FROM crop_recommendation\"\n",
    "pdf = pd.read_sql(query.encode('utf-8'), con=conn)\n",
    "conn.close()"
   ]
  },
  {
   "cell_type": "code",
   "execution_count": 9,
   "metadata": {},
   "outputs": [
    {
     "data": {
      "text/html": [
       "<div>\n",
       "<style scoped>\n",
       "    .dataframe tbody tr th:only-of-type {\n",
       "        vertical-align: middle;\n",
       "    }\n",
       "\n",
       "    .dataframe tbody tr th {\n",
       "        vertical-align: top;\n",
       "    }\n",
       "\n",
       "    .dataframe thead th {\n",
       "        text-align: right;\n",
       "    }\n",
       "</style>\n",
       "<table border=\"1\" class=\"dataframe\">\n",
       "  <thead>\n",
       "    <tr style=\"text-align: right;\">\n",
       "      <th></th>\n",
       "      <th>N</th>\n",
       "      <th>P</th>\n",
       "      <th>K</th>\n",
       "      <th>temperature</th>\n",
       "      <th>humidity</th>\n",
       "      <th>ph</th>\n",
       "      <th>rainfall</th>\n",
       "      <th>label</th>\n",
       "    </tr>\n",
       "  </thead>\n",
       "  <tbody>\n",
       "    <tr>\n",
       "      <th>0</th>\n",
       "      <td>90</td>\n",
       "      <td>42</td>\n",
       "      <td>43</td>\n",
       "      <td>20.879744</td>\n",
       "      <td>82.002744</td>\n",
       "      <td>6.502985</td>\n",
       "      <td>202.935536</td>\n",
       "      <td>rice</td>\n",
       "    </tr>\n",
       "    <tr>\n",
       "      <th>1</th>\n",
       "      <td>85</td>\n",
       "      <td>58</td>\n",
       "      <td>41</td>\n",
       "      <td>21.770462</td>\n",
       "      <td>80.319644</td>\n",
       "      <td>7.038096</td>\n",
       "      <td>226.655537</td>\n",
       "      <td>rice</td>\n",
       "    </tr>\n",
       "    <tr>\n",
       "      <th>2</th>\n",
       "      <td>60</td>\n",
       "      <td>55</td>\n",
       "      <td>44</td>\n",
       "      <td>23.004459</td>\n",
       "      <td>82.320763</td>\n",
       "      <td>7.840207</td>\n",
       "      <td>263.964248</td>\n",
       "      <td>rice</td>\n",
       "    </tr>\n",
       "    <tr>\n",
       "      <th>3</th>\n",
       "      <td>74</td>\n",
       "      <td>35</td>\n",
       "      <td>40</td>\n",
       "      <td>26.491096</td>\n",
       "      <td>80.158363</td>\n",
       "      <td>6.980401</td>\n",
       "      <td>242.864034</td>\n",
       "      <td>rice</td>\n",
       "    </tr>\n",
       "    <tr>\n",
       "      <th>4</th>\n",
       "      <td>78</td>\n",
       "      <td>42</td>\n",
       "      <td>42</td>\n",
       "      <td>20.130175</td>\n",
       "      <td>81.604873</td>\n",
       "      <td>7.628473</td>\n",
       "      <td>262.717340</td>\n",
       "      <td>rice</td>\n",
       "    </tr>\n",
       "    <tr>\n",
       "      <th>...</th>\n",
       "      <td>...</td>\n",
       "      <td>...</td>\n",
       "      <td>...</td>\n",
       "      <td>...</td>\n",
       "      <td>...</td>\n",
       "      <td>...</td>\n",
       "      <td>...</td>\n",
       "      <td>...</td>\n",
       "    </tr>\n",
       "    <tr>\n",
       "      <th>2195</th>\n",
       "      <td>107</td>\n",
       "      <td>34</td>\n",
       "      <td>32</td>\n",
       "      <td>26.774637</td>\n",
       "      <td>66.413269</td>\n",
       "      <td>6.780064</td>\n",
       "      <td>177.774507</td>\n",
       "      <td>coffee</td>\n",
       "    </tr>\n",
       "    <tr>\n",
       "      <th>2196</th>\n",
       "      <td>99</td>\n",
       "      <td>15</td>\n",
       "      <td>27</td>\n",
       "      <td>27.417112</td>\n",
       "      <td>56.636362</td>\n",
       "      <td>6.086922</td>\n",
       "      <td>127.924610</td>\n",
       "      <td>coffee</td>\n",
       "    </tr>\n",
       "    <tr>\n",
       "      <th>2197</th>\n",
       "      <td>118</td>\n",
       "      <td>33</td>\n",
       "      <td>30</td>\n",
       "      <td>24.131797</td>\n",
       "      <td>67.225123</td>\n",
       "      <td>6.362608</td>\n",
       "      <td>173.322839</td>\n",
       "      <td>coffee</td>\n",
       "    </tr>\n",
       "    <tr>\n",
       "      <th>2198</th>\n",
       "      <td>117</td>\n",
       "      <td>32</td>\n",
       "      <td>34</td>\n",
       "      <td>26.272418</td>\n",
       "      <td>52.127394</td>\n",
       "      <td>6.758793</td>\n",
       "      <td>127.175293</td>\n",
       "      <td>coffee</td>\n",
       "    </tr>\n",
       "    <tr>\n",
       "      <th>2199</th>\n",
       "      <td>104</td>\n",
       "      <td>18</td>\n",
       "      <td>30</td>\n",
       "      <td>23.603016</td>\n",
       "      <td>60.396475</td>\n",
       "      <td>6.779833</td>\n",
       "      <td>140.937041</td>\n",
       "      <td>coffee</td>\n",
       "    </tr>\n",
       "  </tbody>\n",
       "</table>\n",
       "<p>2200 rows × 8 columns</p>\n",
       "</div>"
      ],
      "text/plain": [
       "        N   P   K  temperature   humidity        ph    rainfall   label\n",
       "0      90  42  43    20.879744  82.002744  6.502985  202.935536    rice\n",
       "1      85  58  41    21.770462  80.319644  7.038096  226.655537    rice\n",
       "2      60  55  44    23.004459  82.320763  7.840207  263.964248    rice\n",
       "3      74  35  40    26.491096  80.158363  6.980401  242.864034    rice\n",
       "4      78  42  42    20.130175  81.604873  7.628473  262.717340    rice\n",
       "...   ...  ..  ..          ...        ...       ...         ...     ...\n",
       "2195  107  34  32    26.774637  66.413269  6.780064  177.774507  coffee\n",
       "2196   99  15  27    27.417112  56.636362  6.086922  127.924610  coffee\n",
       "2197  118  33  30    24.131797  67.225123  6.362608  173.322839  coffee\n",
       "2198  117  32  34    26.272418  52.127394  6.758793  127.175293  coffee\n",
       "2199  104  18  30    23.603016  60.396475  6.779833  140.937041  coffee\n",
       "\n",
       "[2200 rows x 8 columns]"
      ]
     },
     "execution_count": 9,
     "metadata": {},
     "output_type": "execute_result"
    }
   ],
   "source": [
    "pdf"
   ]
  },
  {
   "cell_type": "code",
   "execution_count": 74,
   "metadata": {},
   "outputs": [
    {
     "name": "stdout",
     "output_type": "stream",
     "text": [
      "['rice' 'maize' 'chickpea' 'kidneybeans' 'pigeonpeas' 'mothbeans'\n",
      " 'mungbean' 'blackgram' 'lentil' 'pomegranate' 'banana' 'mango' 'grapes'\n",
      " 'watermelon' 'muskmelon' 'apple' 'orange' 'papaya' 'coconut' 'cotton'\n",
      " 'jute' 'coffee']\n"
     ]
    }
   ],
   "source": [
    "print(pdf['label'].unique())"
   ]
  },
  {
   "cell_type": "code",
   "execution_count": 61,
   "metadata": {},
   "outputs": [
    {
     "data": {
      "image/png": "[encoded data removed]",
      "text/plain": [
       "<Figure size 576x576 with 1 Axes>"
      ]
     },
     "metadata": {},
     "output_type": "display_data"
    }
   ],
   "source": [
    "x = pd.DataFrame(pd.crosstab(pdf.label[pdf.temperature > 30],'count',normalize=True)*100)\n",
    "x.plot.pie(y = 'count',autopct='%1.1f%%',figsize=(8,8),legend=None,shadow=True, startangle=90)\n",
    "plt.title('crops grow when temperature > 30')\n",
    "plt.show()"
   ]
  },
  {
   "cell_type": "code",
   "execution_count": 71,
   "metadata": {},
   "outputs": [
    {
     "data": {
      "image/png": "[encoded data removed]",
      "text/plain": [
       "<Figure size 576x576 with 1 Axes>"
      ]
     },
     "metadata": {},
     "output_type": "display_data"
    }
   ],
   "source": [
    "#which crops can grow at higher ph value .i.e., (alkaline nature) ph > 7.5\n",
    "x = pd.DataFrame(pd.crosstab(pdf.label[pdf.ph > 7.5],'count',normalize=True)*100)\n",
    "x.plot.pie(y = 'count',autopct='%1.1f%%',figsize=(8,8),legend=None,shadow=True, startangle=90)\n",
    "plt.title('Probability of crops grow when ph > 7.5 i.e.,alkaline nature')\n",
    "plt.show()"
   ]
  },
  {
   "cell_type": "code",
   "execution_count": 68,
   "metadata": {},
   "outputs": [
    {
     "name": "stdout",
     "output_type": "stream",
     "text": [
      "rainfall : N\n"
     ]
    },
    {
     "name": "stderr",
     "output_type": "stream",
     "text": [
      "C:\\Users\\jothi\\anaconda3\\lib\\site-packages\\seaborn\\_decorators.py:36: FutureWarning: Pass the following variable as a keyword arg: x. From version 0.12, the only valid positional argument will be `data`, and passing other arguments without an explicit keyword will result in an error or misinterpretation.\n",
      "  warnings.warn(\n"
     ]
    },
    {
     "data": {
      "image/png": "[encoded data removed]",
      "text/plain": [
       "<Figure size 576x288 with 2 Axes>"
      ]
     },
     "metadata": {
      "needs_background": "light"
     },
     "output_type": "display_data"
    },
    {
     "name": "stdout",
     "output_type": "stream",
     "text": [
      "\n",
      "\n",
      "rainfall : P\n"
     ]
    },
    {
     "name": "stderr",
     "output_type": "stream",
     "text": [
      "C:\\Users\\jothi\\anaconda3\\lib\\site-packages\\seaborn\\_decorators.py:36: FutureWarning: Pass the following variable as a keyword arg: x. From version 0.12, the only valid positional argument will be `data`, and passing other arguments without an explicit keyword will result in an error or misinterpretation.\n",
      "  warnings.warn(\n"
     ]
    },
    {
     "data": {
      "image/png": "[encoded data removed]",
      "text/plain": [
       "<Figure size 576x288 with 2 Axes>"
      ]
     },
     "metadata": {
      "needs_background": "light"
     },
     "output_type": "display_data"
    },
    {
     "name": "stdout",
     "output_type": "stream",
     "text": [
      "\n",
      "\n",
      "rainfall : K\n"
     ]
    },
    {
     "name": "stderr",
     "output_type": "stream",
     "text": [
      "C:\\Users\\jothi\\anaconda3\\lib\\site-packages\\seaborn\\_decorators.py:36: FutureWarning: Pass the following variable as a keyword arg: x. From version 0.12, the only valid positional argument will be `data`, and passing other arguments without an explicit keyword will result in an error or misinterpretation.\n",
      "  warnings.warn(\n"
     ]
    },
    {
     "data": {
      "image/png": "[encoded data removed]",
      "text/plain": [
       "<Figure size 576x288 with 2 Axes>"
      ]
     },
     "metadata": {
      "needs_background": "light"
     },
     "output_type": "display_data"
    },
    {
     "name": "stdout",
     "output_type": "stream",
     "text": [
      "\n",
      "\n",
      "rainfall : TEMPERATURE\n"
     ]
    },
    {
     "name": "stderr",
     "output_type": "stream",
     "text": [
      "C:\\Users\\jothi\\anaconda3\\lib\\site-packages\\seaborn\\_decorators.py:36: FutureWarning: Pass the following variable as a keyword arg: x. From version 0.12, the only valid positional argument will be `data`, and passing other arguments without an explicit keyword will result in an error or misinterpretation.\n",
      "  warnings.warn(\n"
     ]
    },
    {
     "data": {
      "image/png": "[encoded data removed]",
      "text/plain": [
       "<Figure size 576x288 with 2 Axes>"
      ]
     },
     "metadata": {
      "needs_background": "light"
     },
     "output_type": "display_data"
    },
    {
     "name": "stdout",
     "output_type": "stream",
     "text": [
      "\n",
      "\n",
      "rainfall : HUMIDITY\n"
     ]
    },
    {
     "name": "stderr",
     "output_type": "stream",
     "text": [
      "C:\\Users\\jothi\\anaconda3\\lib\\site-packages\\seaborn\\_decorators.py:36: FutureWarning: Pass the following variable as a keyword arg: x. From version 0.12, the only valid positional argument will be `data`, and passing other arguments without an explicit keyword will result in an error or misinterpretation.\n",
      "  warnings.warn(\n"
     ]
    },
    {
     "data": {
      "image/png": "[encoded data removed]",
      "text/plain": [
       "<Figure size 576x288 with 2 Axes>"
      ]
     },
     "metadata": {
      "needs_background": "light"
     },
     "output_type": "display_data"
    },
    {
     "name": "stdout",
     "output_type": "stream",
     "text": [
      "\n",
      "\n",
      "rainfall : PH\n"
     ]
    },
    {
     "name": "stderr",
     "output_type": "stream",
     "text": [
      "C:\\Users\\jothi\\anaconda3\\lib\\site-packages\\seaborn\\_decorators.py:36: FutureWarning: Pass the following variable as a keyword arg: x. From version 0.12, the only valid positional argument will be `data`, and passing other arguments without an explicit keyword will result in an error or misinterpretation.\n",
      "  warnings.warn(\n"
     ]
    },
    {
     "data": {
      "image/png": "[encoded data removed]",
      "text/plain": [
       "<Figure size 576x288 with 2 Axes>"
      ]
     },
     "metadata": {
      "needs_background": "light"
     },
     "output_type": "display_data"
    },
    {
     "name": "stdout",
     "output_type": "stream",
     "text": [
      "\n",
      "\n"
     ]
    }
   ],
   "source": [
    "#checking for outliers in the data\n",
    "import seaborn as sns\n",
    "for i in pdf.columns[:-2]:\n",
    "    print('rainfall :',i.upper())\n",
    "    fig, axes = plt.subplots(1,2,figsize=(8,4))\n",
    "    axes[0].set_title('Distribution')\n",
    "    axes[1].set_title('Outliers Detection')\n",
    "    pdf[i].hist(ax=axes[0])\n",
    "    sns.boxplot(pdf[i],ax=axes[1])\n",
    "    plt.show()\n",
    "    print('\\n')"
   ]
  },
  {
   "cell_type": "code",
   "execution_count": 70,
   "metadata": {},
   "outputs": [
    {
     "data": {
      "text/plain": [
       "<AxesSubplot:>"
      ]
     },
     "execution_count": 70,
     "metadata": {},
     "output_type": "execute_result"
    },
    {
     "data": {
      "image/png": "[encoded data removed]",
      "text/plain": [
       "<Figure size 720x432 with 2 Axes>"
      ]
     },
     "metadata": {
      "needs_background": "light"
     },
     "output_type": "display_data"
    }
   ],
   "source": [
    "#checking the corelation\n",
    "plt.figure(figsize=(10,6))\n",
    "sns.heatmap(pdf.corr(),annot=True,cmap='RdBu')"
   ]
  },
  {
   "cell_type": "code",
   "execution_count": null,
   "metadata": {},
   "outputs": [],
   "source": []
  },
  {
   "cell_type": "code",
   "execution_count": 31,
   "metadata": {},
   "outputs": [],
   "source": [
    "df=spark.createDataFrame(pdf)"
   ]
  },
  {
   "cell_type": "code",
   "execution_count": 32,
   "metadata": {},
   "outputs": [
    {
     "name": "stdout",
     "output_type": "stream",
     "text": [
      "+---+---+---+-----------+-----------------+------------------+------------------+-----+\n",
      "|  N|  P|  K|temperature|         humidity|                ph|          rainfall|label|\n",
      "+---+---+---+-----------+-----------------+------------------+------------------+-----+\n",
      "| 90| 42| 43|20.87974371|      82.00274423| 6.502985292000001|       202.9355362| rice|\n",
      "| 85| 58| 41|21.77046169|      80.31964408|       7.038096361|       226.6555374| rice|\n",
      "| 60| 55| 44|23.00445915|       82.3207629|       7.840207144|       263.9642476| rice|\n",
      "| 74| 35| 40|26.49109635|      80.15836264|       6.980400905|       242.8640342| rice|\n",
      "| 78| 42| 42|20.13017482|      81.60487287|       7.628472891|       262.7173405| rice|\n",
      "| 69| 37| 42|23.05804872|      83.37011772|       7.073453503|       251.0549998| rice|\n",
      "| 69| 55| 38|22.70883798|      82.63941394|        5.70080568|       271.3248604| rice|\n",
      "| 94| 53| 40|20.27774362|      82.89408619| 5.718627177999999|       241.9741949| rice|\n",
      "| 89| 54| 38|24.51588066|83.53521629999999|       6.685346424|       230.4462359| rice|\n",
      "| 68| 58| 38|23.22397386|      83.03322691|       6.336253525|       221.2091958| rice|\n",
      "| 91| 53| 40|26.52723513|      81.41753846|       5.386167788|       264.6148697| rice|\n",
      "| 90| 46| 42|23.97898217|      81.45061596|        7.50283396|       250.0832336| rice|\n",
      "| 78| 58| 44|26.80079604|      80.88684822|       5.108681786|       284.4364567| rice|\n",
      "| 93| 56| 36|24.01497622|      82.05687182|        6.98435366|       185.2773389| rice|\n",
      "| 94| 50| 37|25.66585205|      80.66385045|        6.94801983|       209.5869708| rice|\n",
      "| 60| 48| 39|24.28209415|      80.30025587|7.0422990689999985|       231.0863347| rice|\n",
      "| 85| 38| 41|21.58711777|       82.7883708|6.2490506560000005|276.65524589999995| rice|\n",
      "| 91| 35| 39|23.79391957|      80.41817957|       6.970859754|       206.2611855| rice|\n",
      "| 77| 38| 36| 21.8652524|       80.1923008|       5.953933276|224.55501690000003| rice|\n",
      "| 88| 35| 40|23.57943626|      83.58760316|        5.85393208| 291.2986618000001| rice|\n",
      "+---+---+---+-----------+-----------------+------------------+------------------+-----+\n",
      "only showing top 20 rows\n",
      "\n"
     ]
    }
   ],
   "source": [
    "df.show()"
   ]
  },
  {
   "cell_type": "code",
   "execution_count": 36,
   "metadata": {},
   "outputs": [
    {
     "name": "stdout",
     "output_type": "stream",
     "text": [
      "root\n",
      " |-- N: long (nullable = true)\n",
      " |-- P: long (nullable = true)\n",
      " |-- K: long (nullable = true)\n",
      " |-- temperature: double (nullable = true)\n",
      " |-- humidity: double (nullable = true)\n",
      " |-- ph: double (nullable = true)\n",
      " |-- rainfall: double (nullable = true)\n",
      " |-- result: string (nullable = true)\n",
      "\n"
     ]
    }
   ],
   "source": [
    "df.printSchema()\n"
   ]
  },
  {
   "cell_type": "code",
   "execution_count": 34,
   "metadata": {},
   "outputs": [],
   "source": [
    "df = df.withColumnRenamed('label', 'result')\n",
    "cols = df.columns"
   ]
  },
  {
   "cell_type": "code",
   "execution_count": 35,
   "metadata": {},
   "outputs": [
    {
     "data": {
      "text/html": [
       "<div>\n",
       "<style scoped>\n",
       "    .dataframe tbody tr th:only-of-type {\n",
       "        vertical-align: middle;\n",
       "    }\n",
       "\n",
       "    .dataframe tbody tr th {\n",
       "        vertical-align: top;\n",
       "    }\n",
       "\n",
       "    .dataframe thead th {\n",
       "        text-align: right;\n",
       "    }\n",
       "</style>\n",
       "<table border=\"1\" class=\"dataframe\">\n",
       "  <thead>\n",
       "    <tr style=\"text-align: right;\">\n",
       "      <th></th>\n",
       "      <th>0</th>\n",
       "      <th>1</th>\n",
       "      <th>2</th>\n",
       "      <th>3</th>\n",
       "      <th>4</th>\n",
       "    </tr>\n",
       "  </thead>\n",
       "  <tbody>\n",
       "    <tr>\n",
       "      <th>summary</th>\n",
       "      <td>count</td>\n",
       "      <td>mean</td>\n",
       "      <td>stddev</td>\n",
       "      <td>min</td>\n",
       "      <td>max</td>\n",
       "    </tr>\n",
       "    <tr>\n",
       "      <th>temperature</th>\n",
       "      <td>2200</td>\n",
       "      <td>25.616243851779533</td>\n",
       "      <td>5.0637485999588545</td>\n",
       "      <td>8.825674745</td>\n",
       "      <td>43.67549305</td>\n",
       "    </tr>\n",
       "    <tr>\n",
       "      <th>humidity</th>\n",
       "      <td>2200</td>\n",
       "      <td>71.48177921778648</td>\n",
       "      <td>22.263811589761104</td>\n",
       "      <td>14.25803981</td>\n",
       "      <td>99.98187601</td>\n",
       "    </tr>\n",
       "    <tr>\n",
       "      <th>ph</th>\n",
       "      <td>2200</td>\n",
       "      <td>6.469480065256369</td>\n",
       "      <td>0.7739376880298732</td>\n",
       "      <td>3.504752314</td>\n",
       "      <td>9.93509073</td>\n",
       "    </tr>\n",
       "    <tr>\n",
       "      <th>rainfall</th>\n",
       "      <td>2200</td>\n",
       "      <td>103.46365541576832</td>\n",
       "      <td>54.958388524878174</td>\n",
       "      <td>20.21126747</td>\n",
       "      <td>298.5601175</td>\n",
       "    </tr>\n",
       "  </tbody>\n",
       "</table>\n",
       "</div>"
      ],
      "text/plain": [
       "                 0                   1                   2            3  \\\n",
       "summary      count                mean              stddev          min   \n",
       "temperature   2200  25.616243851779533  5.0637485999588545  8.825674745   \n",
       "humidity      2200   71.48177921778648  22.263811589761104  14.25803981   \n",
       "ph            2200   6.469480065256369  0.7739376880298732  3.504752314   \n",
       "rainfall      2200  103.46365541576832  54.958388524878174  20.21126747   \n",
       "\n",
       "                       4  \n",
       "summary              max  \n",
       "temperature  43.67549305  \n",
       "humidity     99.98187601  \n",
       "ph            9.93509073  \n",
       "rainfall     298.5601175  "
      ]
     },
     "execution_count": 35,
     "metadata": {},
     "output_type": "execute_result"
    }
   ],
   "source": [
    "numeric_features = [t[0] for t in df.dtypes if t[1] == 'double']\n",
    "df.select(numeric_features).describe().toPandas().transpose()"
   ]
  },
  {
   "cell_type": "code",
   "execution_count": 26,
   "metadata": {},
   "outputs": [
    {
     "name": "stdout",
     "output_type": "stream",
     "text": [
      "+---+---+---+-----------+--------+---+--------+------+\n",
      "|  N|  P|  K|temperature|humidity| ph|rainfall|result|\n",
      "+---+---+---+-----------+--------+---+--------+------+\n",
      "|  0|  0|  0|          0|       0|  0|       0|     0|\n",
      "+---+---+---+-----------+--------+---+--------+------+\n",
      "\n"
     ]
    }
   ],
   "source": [
    "from pyspark.sql.functions import isnan, when, count, col\n",
    "df.select([count(when(isnan(c), c)).alias(c) for c in df.columns]).show()"
   ]
  },
  {
   "cell_type": "code",
   "execution_count": 37,
   "metadata": {},
   "outputs": [],
   "source": [
    "from pyspark.ml.feature import StringIndexer, VectorAssembler\n",
    "stages = []\n",
    "label_stringIdx = StringIndexer(inputCol = 'result', outputCol = 'label')\n",
    "stages += [label_stringIdx]\n",
    "numericCols = ['N', 'P', 'K', 'temperature', 'humidity', 'ph','rainfall']\n",
    "assemblerInputs = numericCols\n",
    "assembler = VectorAssembler(inputCols=assemblerInputs, outputCol=\"features\")\n",
    "stages += [assembler]\n"
   ]
  },
  {
   "cell_type": "code",
   "execution_count": 38,
   "metadata": {},
   "outputs": [
    {
     "name": "stdout",
     "output_type": "stream",
     "text": [
      "root\n",
      " |-- label: double (nullable = false)\n",
      " |-- features: vector (nullable = true)\n",
      " |-- N: long (nullable = true)\n",
      " |-- P: long (nullable = true)\n",
      " |-- K: long (nullable = true)\n",
      " |-- temperature: double (nullable = true)\n",
      " |-- humidity: double (nullable = true)\n",
      " |-- ph: double (nullable = true)\n",
      " |-- rainfall: double (nullable = true)\n",
      " |-- result: string (nullable = true)\n",
      "\n"
     ]
    }
   ],
   "source": [
    "from pyspark.ml import Pipeline\n",
    "pipeline = Pipeline(stages = stages)\n",
    "pipelineModel = pipeline.fit(df)\n",
    "df = pipelineModel.transform(df)\n",
    "selectedCols = ['label', 'features'] + cols\n",
    "df = df.select(selectedCols)\n",
    "df.printSchema()"
   ]
  },
  {
   "cell_type": "code",
   "execution_count": 39,
   "metadata": {},
   "outputs": [
    {
     "name": "stdout",
     "output_type": "stream",
     "text": [
      "+-----------------------------------------------------------------------------+\n",
      "|features                                                                     |\n",
      "+-----------------------------------------------------------------------------+\n",
      "|[90.0,42.0,43.0,20.87974371,82.00274423,6.502985292000001,202.9355362]       |\n",
      "|[85.0,58.0,41.0,21.77046169,80.31964408,7.038096361,226.6555374]             |\n",
      "|[60.0,55.0,44.0,23.00445915,82.3207629,7.840207144,263.9642476]              |\n",
      "|[74.0,35.0,40.0,26.49109635,80.15836264,6.980400905,242.8640342]             |\n",
      "|[78.0,42.0,42.0,20.13017482,81.60487287,7.628472891,262.7173405]             |\n",
      "|[69.0,37.0,42.0,23.05804872,83.37011772,7.073453503,251.0549998]             |\n",
      "|[69.0,55.0,38.0,22.70883798,82.63941394,5.70080568,271.3248604]              |\n",
      "|[94.0,53.0,40.0,20.27774362,82.89408619,5.718627177999999,241.9741949]       |\n",
      "|[89.0,54.0,38.0,24.51588066,83.53521629999999,6.685346424,230.4462359]       |\n",
      "|[68.0,58.0,38.0,23.22397386,83.03322691,6.336253525,221.2091958]             |\n",
      "|[91.0,53.0,40.0,26.52723513,81.41753846,5.386167788,264.6148697]             |\n",
      "|[90.0,46.0,42.0,23.97898217,81.45061596,7.50283396,250.0832336]              |\n",
      "|[78.0,58.0,44.0,26.80079604,80.88684822,5.108681786,284.4364567]             |\n",
      "|[93.0,56.0,36.0,24.01497622,82.05687182,6.98435366,185.2773389]              |\n",
      "|[94.0,50.0,37.0,25.66585205,80.66385045,6.94801983,209.5869708]              |\n",
      "|[60.0,48.0,39.0,24.28209415,80.30025587,7.0422990689999985,231.0863347]      |\n",
      "|[85.0,38.0,41.0,21.58711777,82.7883708,6.2490506560000005,276.65524589999995]|\n",
      "|[91.0,35.0,39.0,23.79391957,80.41817957,6.970859754,206.2611855]             |\n",
      "|[77.0,38.0,36.0,21.8652524,80.1923008,5.953933276,224.55501690000003]        |\n",
      "|[88.0,35.0,40.0,23.57943626,83.58760316,5.85393208,291.2986618000001]        |\n",
      "+-----------------------------------------------------------------------------+\n",
      "only showing top 20 rows\n",
      "\n"
     ]
    }
   ],
   "source": [
    "df.select(\"features\").show(truncate=False)"
   ]
  },
  {
   "cell_type": "code",
   "execution_count": 40,
   "metadata": {},
   "outputs": [
    {
     "name": "stdout",
     "output_type": "stream",
     "text": [
      "+--------------------+--------------------+\n",
      "|            features|     Scaled_features|\n",
      "+--------------------+--------------------+\n",
      "|[90.0,42.0,43.0,2...|[2.43787919261129...|\n",
      "|[85.0,58.0,41.0,2...|[2.30244145968844...|\n",
      "|[60.0,55.0,44.0,2...|[1.62525279507419...|\n",
      "|[74.0,35.0,40.0,2...|[2.00447844725817...|\n",
      "|[78.0,42.0,42.0,2...|[2.11282863359645...|\n",
      "+--------------------+--------------------+\n",
      "only showing top 5 rows\n",
      "\n"
     ]
    }
   ],
   "source": [
    "from pyspark.ml.feature import StandardScaler\n",
    "standardscaler=StandardScaler().setInputCol(\"features\").setOutputCol(\"Scaled_features\")\n",
    "df=standardscaler.fit(df).transform(df)\n",
    "df.select(\"features\",\"Scaled_features\").show(5)"
   ]
  },
  {
   "cell_type": "code",
   "execution_count": 41,
   "metadata": {},
   "outputs": [
    {
     "data": {
      "text/html": [
       "<div>\n",
       "<style scoped>\n",
       "    .dataframe tbody tr th:only-of-type {\n",
       "        vertical-align: middle;\n",
       "    }\n",
       "\n",
       "    .dataframe tbody tr th {\n",
       "        vertical-align: top;\n",
       "    }\n",
       "\n",
       "    .dataframe thead th {\n",
       "        text-align: right;\n",
       "    }\n",
       "</style>\n",
       "<table border=\"1\" class=\"dataframe\">\n",
       "  <thead>\n",
       "    <tr style=\"text-align: right;\">\n",
       "      <th></th>\n",
       "      <th>0</th>\n",
       "      <th>1</th>\n",
       "      <th>2</th>\n",
       "      <th>3</th>\n",
       "      <th>4</th>\n",
       "    </tr>\n",
       "  </thead>\n",
       "  <tbody>\n",
       "    <tr>\n",
       "      <th>label</th>\n",
       "      <td>20</td>\n",
       "      <td>20</td>\n",
       "      <td>20</td>\n",
       "      <td>20</td>\n",
       "      <td>20</td>\n",
       "    </tr>\n",
       "    <tr>\n",
       "      <th>features</th>\n",
       "      <td>[90.0, 42.0, 43.0, 20.87974371, 82.00274423, 6...</td>\n",
       "      <td>[85.0, 58.0, 41.0, 21.77046169, 80.31964408, 7...</td>\n",
       "      <td>[60.0, 55.0, 44.0, 23.00445915, 82.3207629, 7....</td>\n",
       "      <td>[74.0, 35.0, 40.0, 26.49109635, 80.15836264, 6...</td>\n",
       "      <td>[78.0, 42.0, 42.0, 20.13017482, 81.60487287, 7...</td>\n",
       "    </tr>\n",
       "    <tr>\n",
       "      <th>N</th>\n",
       "      <td>90</td>\n",
       "      <td>85</td>\n",
       "      <td>60</td>\n",
       "      <td>74</td>\n",
       "      <td>78</td>\n",
       "    </tr>\n",
       "    <tr>\n",
       "      <th>P</th>\n",
       "      <td>42</td>\n",
       "      <td>58</td>\n",
       "      <td>55</td>\n",
       "      <td>35</td>\n",
       "      <td>42</td>\n",
       "    </tr>\n",
       "    <tr>\n",
       "      <th>K</th>\n",
       "      <td>43</td>\n",
       "      <td>41</td>\n",
       "      <td>44</td>\n",
       "      <td>40</td>\n",
       "      <td>42</td>\n",
       "    </tr>\n",
       "    <tr>\n",
       "      <th>temperature</th>\n",
       "      <td>20.8797</td>\n",
       "      <td>21.7705</td>\n",
       "      <td>23.0045</td>\n",
       "      <td>26.4911</td>\n",
       "      <td>20.1302</td>\n",
       "    </tr>\n",
       "    <tr>\n",
       "      <th>humidity</th>\n",
       "      <td>82.0027</td>\n",
       "      <td>80.3196</td>\n",
       "      <td>82.3208</td>\n",
       "      <td>80.1584</td>\n",
       "      <td>81.6049</td>\n",
       "    </tr>\n",
       "    <tr>\n",
       "      <th>ph</th>\n",
       "      <td>6.50299</td>\n",
       "      <td>7.0381</td>\n",
       "      <td>7.84021</td>\n",
       "      <td>6.9804</td>\n",
       "      <td>7.62847</td>\n",
       "    </tr>\n",
       "    <tr>\n",
       "      <th>rainfall</th>\n",
       "      <td>202.936</td>\n",
       "      <td>226.656</td>\n",
       "      <td>263.964</td>\n",
       "      <td>242.864</td>\n",
       "      <td>262.717</td>\n",
       "    </tr>\n",
       "    <tr>\n",
       "      <th>result</th>\n",
       "      <td>rice</td>\n",
       "      <td>rice</td>\n",
       "      <td>rice</td>\n",
       "      <td>rice</td>\n",
       "      <td>rice</td>\n",
       "    </tr>\n",
       "    <tr>\n",
       "      <th>Scaled_features</th>\n",
       "      <td>[2.437879192611292, 1.273271973130132, 0.84899...</td>\n",
       "      <td>[2.3024414596884424, 1.7583279628939918, 0.809...</td>\n",
       "      <td>[1.6252527950741946, 1.6673799648132681, 0.868...</td>\n",
       "      <td>[2.0044784472581734, 1.0610599776084433, 0.789...</td>\n",
       "      <td>[2.112828633596453, 1.273271973130132, 0.82925...</td>\n",
       "    </tr>\n",
       "  </tbody>\n",
       "</table>\n",
       "</div>"
      ],
      "text/plain": [
       "                                                                 0  \\\n",
       "label                                                           20   \n",
       "features         [90.0, 42.0, 43.0, 20.87974371, 82.00274423, 6...   \n",
       "N                                                               90   \n",
       "P                                                               42   \n",
       "K                                                               43   \n",
       "temperature                                                20.8797   \n",
       "humidity                                                   82.0027   \n",
       "ph                                                         6.50299   \n",
       "rainfall                                                   202.936   \n",
       "result                                                        rice   \n",
       "Scaled_features  [2.437879192611292, 1.273271973130132, 0.84899...   \n",
       "\n",
       "                                                                 1  \\\n",
       "label                                                           20   \n",
       "features         [85.0, 58.0, 41.0, 21.77046169, 80.31964408, 7...   \n",
       "N                                                               85   \n",
       "P                                                               58   \n",
       "K                                                               41   \n",
       "temperature                                                21.7705   \n",
       "humidity                                                   80.3196   \n",
       "ph                                                          7.0381   \n",
       "rainfall                                                   226.656   \n",
       "result                                                        rice   \n",
       "Scaled_features  [2.3024414596884424, 1.7583279628939918, 0.809...   \n",
       "\n",
       "                                                                 2  \\\n",
       "label                                                           20   \n",
       "features         [60.0, 55.0, 44.0, 23.00445915, 82.3207629, 7....   \n",
       "N                                                               60   \n",
       "P                                                               55   \n",
       "K                                                               44   \n",
       "temperature                                                23.0045   \n",
       "humidity                                                   82.3208   \n",
       "ph                                                         7.84021   \n",
       "rainfall                                                   263.964   \n",
       "result                                                        rice   \n",
       "Scaled_features  [1.6252527950741946, 1.6673799648132681, 0.868...   \n",
       "\n",
       "                                                                 3  \\\n",
       "label                                                           20   \n",
       "features         [74.0, 35.0, 40.0, 26.49109635, 80.15836264, 6...   \n",
       "N                                                               74   \n",
       "P                                                               35   \n",
       "K                                                               40   \n",
       "temperature                                                26.4911   \n",
       "humidity                                                   80.1584   \n",
       "ph                                                          6.9804   \n",
       "rainfall                                                   242.864   \n",
       "result                                                        rice   \n",
       "Scaled_features  [2.0044784472581734, 1.0610599776084433, 0.789...   \n",
       "\n",
       "                                                                 4  \n",
       "label                                                           20  \n",
       "features         [78.0, 42.0, 42.0, 20.13017482, 81.60487287, 7...  \n",
       "N                                                               78  \n",
       "P                                                               42  \n",
       "K                                                               42  \n",
       "temperature                                                20.1302  \n",
       "humidity                                                   81.6049  \n",
       "ph                                                         7.62847  \n",
       "rainfall                                                   262.717  \n",
       "result                                                        rice  \n",
       "Scaled_features  [2.112828633596453, 1.273271973130132, 0.82925...  "
      ]
     },
     "execution_count": 41,
     "metadata": {},
     "output_type": "execute_result"
    }
   ],
   "source": [
    "pd.DataFrame(df.take(5), columns=df.columns).transpose()"
   ]
  },
  {
   "cell_type": "code",
   "execution_count": 42,
   "metadata": {},
   "outputs": [
    {
     "name": "stdout",
     "output_type": "stream",
     "text": [
      "Training Dataset Count: 1567\n",
      "Test Dataset Count: 633\n"
     ]
    }
   ],
   "source": [
    "train, test = df.randomSplit([0.7, 0.3], seed = 2018)\n",
    "print(\"Training Dataset Count: \" + str(train.count()))\n",
    "print(\"Test Dataset Count: \" + str(test.count()))"
   ]
  },
  {
   "cell_type": "code",
   "execution_count": 43,
   "metadata": {},
   "outputs": [
    {
     "name": "stdout",
     "output_type": "stream",
     "text": [
      "+-----+----------+\n",
      "|label|prediction|\n",
      "+-----+----------+\n",
      "|  0.0|       0.0|\n",
      "|  0.0|       0.0|\n",
      "|  0.0|       0.0|\n",
      "|  0.0|       0.0|\n",
      "|  0.0|       0.0|\n",
      "|  0.0|       0.0|\n",
      "|  0.0|       0.0|\n",
      "|  0.0|       0.0|\n",
      "|  0.0|       0.0|\n",
      "|  0.0|       0.0|\n",
      "|  0.0|       0.0|\n",
      "|  0.0|       0.0|\n",
      "|  0.0|       0.0|\n",
      "|  0.0|       0.0|\n",
      "|  0.0|       0.0|\n",
      "|  0.0|       0.0|\n",
      "|  0.0|       0.0|\n",
      "|  0.0|       0.0|\n",
      "|  0.0|       0.0|\n",
      "|  0.0|       0.0|\n",
      "|  0.0|       0.0|\n",
      "|  0.0|       0.0|\n",
      "|  0.0|       0.0|\n",
      "|  0.0|       0.0|\n",
      "|  0.0|       0.0|\n",
      "|  0.0|       0.0|\n",
      "|  0.0|       0.0|\n",
      "|  0.0|       0.0|\n",
      "|  1.0|       1.0|\n",
      "|  1.0|       1.0|\n",
      "|  1.0|       1.0|\n",
      "|  1.0|       1.0|\n",
      "|  1.0|       1.0|\n",
      "|  1.0|       1.0|\n",
      "|  1.0|       1.0|\n",
      "|  1.0|       1.0|\n",
      "|  1.0|       1.0|\n",
      "|  1.0|       1.0|\n",
      "|  1.0|       1.0|\n",
      "|  1.0|       1.0|\n",
      "|  1.0|       1.0|\n",
      "|  1.0|       1.0|\n",
      "|  1.0|       1.0|\n",
      "|  1.0|       1.0|\n",
      "|  1.0|       1.0|\n",
      "|  1.0|       1.0|\n",
      "|  1.0|       1.0|\n",
      "|  1.0|       1.0|\n",
      "|  1.0|       1.0|\n",
      "|  1.0|       1.0|\n",
      "|  1.0|       1.0|\n",
      "|  1.0|       1.0|\n",
      "|  1.0|       1.0|\n",
      "|  1.0|       1.0|\n",
      "|  1.0|       1.0|\n",
      "|  1.0|       1.0|\n",
      "|  1.0|       1.0|\n",
      "|  1.0|       1.0|\n",
      "|  1.0|       1.0|\n",
      "|  1.0|       1.0|\n",
      "|  1.0|       1.0|\n",
      "|  1.0|       1.0|\n",
      "|  1.0|       1.0|\n",
      "|  1.0|       1.0|\n",
      "|  2.0|      10.0|\n",
      "|  2.0|       2.0|\n",
      "|  2.0|       2.0|\n",
      "|  2.0|       2.0|\n",
      "|  2.0|       2.0|\n",
      "|  2.0|       2.0|\n",
      "|  2.0|       2.0|\n",
      "|  2.0|       2.0|\n",
      "|  2.0|       2.0|\n",
      "|  2.0|       2.0|\n",
      "|  2.0|       2.0|\n",
      "|  2.0|       2.0|\n",
      "|  2.0|       2.0|\n",
      "|  2.0|       2.0|\n",
      "|  2.0|       2.0|\n",
      "|  2.0|       2.0|\n",
      "|  2.0|       2.0|\n",
      "|  2.0|       2.0|\n",
      "|  2.0|       2.0|\n",
      "|  2.0|       2.0|\n",
      "|  2.0|       2.0|\n",
      "|  2.0|       2.0|\n",
      "|  2.0|       2.0|\n",
      "|  2.0|       2.0|\n",
      "|  2.0|       2.0|\n",
      "|  2.0|       2.0|\n",
      "|  2.0|       2.0|\n",
      "|  2.0|       2.0|\n",
      "|  2.0|       2.0|\n",
      "|  2.0|       2.0|\n",
      "|  3.0|       3.0|\n",
      "|  3.0|       3.0|\n",
      "|  3.0|       3.0|\n",
      "|  3.0|       3.0|\n",
      "|  3.0|       3.0|\n",
      "|  3.0|       3.0|\n",
      "+-----+----------+\n",
      "only showing top 100 rows\n",
      "\n"
     ]
    }
   ],
   "source": [
    "from pyspark.ml.classification import LogisticRegression\n",
    "lr = LogisticRegression(labelCol=\"label\", featuresCol=\"Scaled_features\",maxIter=10)\n",
    "model=lr.fit(train)\n",
    "predict_train=model.transform(train)\n",
    "predict_test=model.transform(test)\n",
    "predict_test.select(\"label\",\"prediction\").show(100)"
   ]
  },
  {
   "cell_type": "code",
   "execution_count": 53,
   "metadata": {},
   "outputs": [
    {
     "name": "stdout",
     "output_type": "stream",
     "text": [
      "Accuracy 0.9064657707304777\n"
     ]
    }
   ],
   "source": [
    "from pyspark.ml.evaluation import MulticlassClassificationEvaluator\n",
    "evaluator = MulticlassClassificationEvaluator()\n",
    "print('Accuracy', evaluator.evaluate(predict_test))"
   ]
  },
  {
   "cell_type": "code",
   "execution_count": 46,
   "metadata": {},
   "outputs": [],
   "source": [
    "from pyspark.ml.classification import DecisionTreeClassifier\n",
    "from pyspark.ml.tuning import ParamGridBuilder, CrossValidator\n",
    "from pyspark.ml.evaluation import MulticlassClassificationEvaluator\n",
    "from pyspark.mllib.evaluation import MulticlassMetrics"
   ]
  },
  {
   "cell_type": "code",
   "execution_count": 47,
   "metadata": {},
   "outputs": [],
   "source": [
    "dt = DecisionTreeClassifier(labelCol=\"label\", featuresCol=\"Scaled_features\", maxDepth=2)\n",
    "\n",
    "# Create ParamGrid for Cross Validation\n",
    "dtparamGrid = (ParamGridBuilder()\n",
    "             .addGrid(dt.maxDepth, [2, 5, 10, 20, 30])\n",
    "             .addGrid(dt.maxBins, [10, 20, 40, 80, 100])\n",
    "             .build())"
   ]
  },
  {
   "cell_type": "code",
   "execution_count": 48,
   "metadata": {},
   "outputs": [],
   "source": [
    "dtevaluator = MulticlassClassificationEvaluator(predictionCol=\"prediction\")"
   ]
  },
  {
   "cell_type": "code",
   "execution_count": 49,
   "metadata": {},
   "outputs": [],
   "source": [
    "dtcv = CrossValidator(estimator = dt,\n",
    "                      estimatorParamMaps = dtparamGrid,\n",
    "                      evaluator = dtevaluator,\n",
    "                      numFolds = 5)"
   ]
  },
  {
   "cell_type": "code",
   "execution_count": 50,
   "metadata": {},
   "outputs": [
    {
     "name": "stdout",
     "output_type": "stream",
     "text": [
      "CrossValidatorModel_dd5ac98070b7\n"
     ]
    }
   ],
   "source": [
    "dtcvModel = dtcv.fit(train)\n",
    "print(dtcvModel) "
   ]
  },
  {
   "cell_type": "code",
   "execution_count": 51,
   "metadata": {},
   "outputs": [],
   "source": [
    "dtpredictions = dtcvModel.transform(test)"
   ]
  },
  {
   "cell_type": "code",
   "execution_count": 52,
   "metadata": {},
   "outputs": [
    {
     "name": "stdout",
     "output_type": "stream",
     "text": [
      "Accuracy: 0.9857252970038499\n"
     ]
    }
   ],
   "source": [
    "print('Accuracy:', dtevaluator.evaluate(dtpredictions))\n",
    "#print('AUC:', MulticlassMetrics(dtpredictions['label','prediction'].rdd).areaUnderROC)"
   ]
  },
  {
   "cell_type": "code",
   "execution_count": null,
   "metadata": {},
   "outputs": [],
   "source": []
  },
  {
   "cell_type": "code",
   "execution_count": null,
   "metadata": {},
   "outputs": [],
   "source": []
  },
  {
   "cell_type": "code",
   "execution_count": null,
   "metadata": {},
   "outputs": [],
   "source": []
  },
  {
   "cell_type": "code",
   "execution_count": null,
   "metadata": {},
   "outputs": [],
   "source": []
  },
  {
   "cell_type": "code",
   "execution_count": null,
   "metadata": {},
   "outputs": [],
   "source": []
  },
  {
   "cell_type": "code",
   "execution_count": null,
   "metadata": {},
   "outputs": [],
   "source": []
  }
 ],
 "metadata": {
  "kernelspec": {
   "display_name": "Python 3",
   "language": "python",
   "name": "python3"
  },
  "language_info": {
   "codemirror_mode": {
    "name": "ipython",
    "version": 3
   },
   "file_extension": ".py",
   "mimetype": "text/x-python",
   "name": "python",
   "nbconvert_exporter": "python",
   "pygments_lexer": "ipython3",
   "version": "3.8.5"
  }
 },
 "nbformat": 4,
 "nbformat_minor": 4
}
